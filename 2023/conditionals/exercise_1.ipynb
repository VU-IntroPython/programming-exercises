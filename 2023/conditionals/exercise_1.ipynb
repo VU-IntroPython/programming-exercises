{
 "cells": [
  {
   "cell_type": "markdown",
   "id": "6995dc91-1e17-4656-99c1-edf6a8bfd590",
   "metadata": {},
   "source": [
    "#### 1) Hello World!\n",
    "\n",
    "Print 'Hello World' if 'a' is greater than 'b' AND 'a' is an even number, else print 'Bye World'.\n",
    "\n",
    "**Example input:**\n",
    "\n",
    "a = 26\n",
    "\n",
    "b = 20\n",
    "\n",
    "**Example output:**\n",
    "\n",
    "\"Hello World\""
   ]
  },
  {
   "cell_type": "code",
   "execution_count": null,
   "id": "cc8ccbcf-f016-4fdf-9cee-f9174c4cd34d",
   "metadata": {},
   "outputs": [],
   "source": [
    "# TODO."
   ]
  }
 ],
 "metadata": {
  "kernelspec": {
   "display_name": "Python 3 (ipykernel)",
   "language": "python",
   "name": "python3"
  },
  "language_info": {
   "codemirror_mode": {
    "name": "ipython",
    "version": 3
   },
   "file_extension": ".py",
   "mimetype": "text/x-python",
   "name": "python",
   "nbconvert_exporter": "python",
   "pygments_lexer": "ipython3",
   "version": "3.10.12"
  }
 },
 "nbformat": 4,
 "nbformat_minor": 5
}
