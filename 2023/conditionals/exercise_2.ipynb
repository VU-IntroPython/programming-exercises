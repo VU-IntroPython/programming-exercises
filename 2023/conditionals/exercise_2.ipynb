{
 "cells": [
  {
   "cell_type": "markdown",
   "id": "381b3424-8a2a-4c42-868b-5e9668ee9541",
   "metadata": {},
   "source": [
    "#### 2) Check Divisibility by 5 and 7\n",
    "\n",
    "Write a Python program that takes a **user-input** number and determines whether it is **divisible** by both 5 and 7. The program will provide an output indicating whether or not the given number satisfies both conditions. For the output make use of the f-string.\n",
    "\n",
    "**Example input:**\n",
    "\n",
    "user_input = 35\n",
    "\n",
    "**Example output:**\n",
    "\n",
    "\"Yes, number 35 is divisible by both 5 and 7!\""
   ]
  },
  {
   "cell_type": "code",
   "execution_count": null,
   "id": "8744ce1a-17b8-4309-9a9e-95f5450ad535",
   "metadata": {},
   "outputs": [],
   "source": [
    "# TODO."
   ]
  }
 ],
 "metadata": {
  "kernelspec": {
   "display_name": "Python 3 (ipykernel)",
   "language": "python",
   "name": "python3"
  },
  "language_info": {
   "codemirror_mode": {
    "name": "ipython",
    "version": 3
   },
   "file_extension": ".py",
   "mimetype": "text/x-python",
   "name": "python",
   "nbconvert_exporter": "python",
   "pygments_lexer": "ipython3",
   "version": "3.10.12"
  }
 },
 "nbformat": 4,
 "nbformat_minor": 5
}
