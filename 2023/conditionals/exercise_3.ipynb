{
 "cells": [
  {
   "cell_type": "markdown",
   "id": "f1f85a91-ef59-4a38-bf0d-08d97a181872",
   "metadata": {},
   "source": [
    "#### 3) Restaurant Recommendation\n",
    "\n",
    "Write a Python program that takes in the rating of a restaurant and provides specific recommendations based on the rating range. Consider the following rating categories and provide corresponding recommendations:\n",
    "\n",
    "- If the rating is 5, print \"Excellent choice! You must visit this restaurant.\"\n",
    "- If the rating is between 4 and 4.9 (inclusive), print \"You should definitely go there!\"\n",
    "- If the rating is between 3 and 3.9 (inclusive), print \"It's worth a try.\"\n",
    "- If the rating is less than 3, print \"Maybe consider another option.\"\n",
    "\n",
    "**Example input:**\n",
    "\n",
    "rating_restaurant = 4.6\n",
    "\n",
    "**Example output:**\n",
    "\n",
    "\"You should definitely go there!\""
   ]
  },
  {
   "cell_type": "code",
   "execution_count": 1,
   "id": "6cb8b64f-136b-4f19-9b6c-6643950b0eb3",
   "metadata": {},
   "outputs": [],
   "source": [
    "# TODO."
   ]
  }
 ],
 "metadata": {
  "kernelspec": {
   "display_name": "Python 3 (ipykernel)",
   "language": "python",
   "name": "python3"
  },
  "language_info": {
   "codemirror_mode": {
    "name": "ipython",
    "version": 3
   },
   "file_extension": ".py",
   "mimetype": "text/x-python",
   "name": "python",
   "nbconvert_exporter": "python",
   "pygments_lexer": "ipython3",
   "version": "3.10.12"
  }
 },
 "nbformat": 4,
 "nbformat_minor": 5
}
