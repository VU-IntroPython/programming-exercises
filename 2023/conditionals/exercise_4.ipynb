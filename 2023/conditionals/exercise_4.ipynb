{
 "cells": [
  {
   "cell_type": "markdown",
   "id": "a95f0bb6-a9c7-4ba0-bed7-bcc85e6c7a57",
   "metadata": {},
   "source": [
    "#### 4) Day of the Week\n",
    "\n",
    "Write a Python program that accepts a numerical **input from a user** representing a day of the week (e.g., 1 for Monday, 2 for Tuesday) and prints out the corresponding day's name. If the input number does not correspond to a valid day of the week, print \"Error!\"\n",
    "\n",
    "**Example input:**\n",
    "\n",
    "user_input = 7\n",
    "\n",
    "**Example output:**\n",
    "\n",
    "'Sunday'"
   ]
  },
  {
   "cell_type": "code",
   "execution_count": null,
   "id": "fc09b78c-8a43-4519-b883-5de73facc4b0",
   "metadata": {},
   "outputs": [],
   "source": [
    "# TODO."
   ]
  }
 ],
 "metadata": {
  "kernelspec": {
   "display_name": "Python 3 (ipykernel)",
   "language": "python",
   "name": "python3"
  },
  "language_info": {
   "codemirror_mode": {
    "name": "ipython",
    "version": 3
   },
   "file_extension": ".py",
   "mimetype": "text/x-python",
   "name": "python",
   "nbconvert_exporter": "python",
   "pygments_lexer": "ipython3",
   "version": "3.10.12"
  }
 },
 "nbformat": 4,
 "nbformat_minor": 5
}
