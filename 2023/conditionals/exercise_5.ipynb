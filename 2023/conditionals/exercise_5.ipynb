{
 "cells": [
  {
   "cell_type": "markdown",
   "id": "d1ace9dd-0e07-4120-be4a-b2dae2d8b7d0",
   "metadata": {},
   "source": [
    "#### 5) Determine \"Weird\" or \"Not Weird\"\n",
    "\n",
    "Write a Python program that accepts an integer as input and performs the following conditional actions:\n",
    "\n",
    "- If the integer is odd, print \"Weird.\"\n",
    "- If the integer is even and in the inclusive range of 2 to 5, print \"Not Weird.\"\n",
    "- If the integer is even and in the inclusive range of 6 to 20, print \"Weird.\"\n",
    "- If the integer is even and greater than 20, print \"Not Weird.\"\n",
    "\n",
    "**Example input:**\n",
    "\n",
    "number = 21\n",
    "\n",
    "**Example output:**\n",
    "\n",
    "\"Weird\""
   ]
  },
  {
   "cell_type": "code",
   "execution_count": null,
   "id": "edaff379-e08f-49e2-80f3-c2a8960f4c4c",
   "metadata": {},
   "outputs": [],
   "source": [
    "# TODO."
   ]
  }
 ],
 "metadata": {
  "kernelspec": {
   "display_name": "Python 3 (ipykernel)",
   "language": "python",
   "name": "python3"
  },
  "language_info": {
   "codemirror_mode": {
    "name": "ipython",
    "version": 3
   },
   "file_extension": ".py",
   "mimetype": "text/x-python",
   "name": "python",
   "nbconvert_exporter": "python",
   "pygments_lexer": "ipython3",
   "version": "3.10.12"
  }
 },
 "nbformat": 4,
 "nbformat_minor": 5
}
