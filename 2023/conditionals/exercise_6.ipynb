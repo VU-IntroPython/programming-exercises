{
 "cells": [
  {
   "cell_type": "markdown",
   "id": "5f8416b1-fb79-47c3-8cd4-154edb51e6ef",
   "metadata": {},
   "source": [
    "#### 6) EXTRA: Counting to a Number\n",
    "\n",
    "Write a Python program that asks the user to enter a positive integer. Then, use a while loop to count from 1 up to the entered number, printing each number along the way.\n",
    "\n",
    "**Example input:**\n",
    "\n",
    "user_input = 4\n",
    "\n",
    "**Example output:**\n",
    "\n",
    "1\n",
    "\n",
    "2\n",
    "\n",
    "3\n",
    "\n",
    "4"
   ]
  },
  {
   "cell_type": "code",
   "execution_count": null,
   "id": "5a170fdf-1d06-4658-8dc2-692eb5db7abc",
   "metadata": {},
   "outputs": [],
   "source": [
    "# TODO."
   ]
  }
 ],
 "metadata": {
  "kernelspec": {
   "display_name": "Python 3 (ipykernel)",
   "language": "python",
   "name": "python3"
  },
  "language_info": {
   "codemirror_mode": {
    "name": "ipython",
    "version": 3
   },
   "file_extension": ".py",
   "mimetype": "text/x-python",
   "name": "python",
   "nbconvert_exporter": "python",
   "pygments_lexer": "ipython3",
   "version": "3.10.12"
  }
 },
 "nbformat": 4,
 "nbformat_minor": 5
}
