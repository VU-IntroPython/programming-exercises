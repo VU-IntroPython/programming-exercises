{
 "cells": [
  {
   "cell_type": "markdown",
   "id": "79912e0d-605f-4690-a399-eea946f03806",
   "metadata": {},
   "source": [
    "### Exercise 1: Class information"
   ]
  },
  {
   "cell_type": "markdown",
   "id": "434ec38a-1902-4ecc-8601-168d6cad42a2",
   "metadata": {},
   "source": [
    "You have a list of student dictionaries, where each dictionary contains information about a student's name, year, and a list of 7 grades. Using a **for-loop**, calculate the average grade for **each** student and print the student's information in the following format, noting that you only need to **print** the student's first name:\n",
    "\n",
    "**Output format**: \"Student [First Name]'s average grade is [Average Grade]\""
   ]
  },
  {
   "cell_type": "code",
   "execution_count": 2,
   "id": "17cfc046-4fc9-46ee-b331-572ab729727d",
   "metadata": {},
   "outputs": [],
   "source": [
    "students = [\n",
    "    {\"name\": \"Alice Johnson\", \"year\": 2023, \"grades\": [85, 92, 78, 90, 88, 76, 95]},\n",
    "    {\"name\": \"Bob Smith\", \"year\": 2023, \"grades\": [90, 88, 92, 78, 85, 76, 94]},\n",
    "    {\"name\": \"Catherine Davis\", \"year\": 2023, \"grades\": [78, 85, 92, 76, 90, 94, 88]},\n",
    "    {\"name\": \"David Wilson\", \"year\": 2023, \"grades\": [92, 78, 85, 90, 76, 88, 94]},\n",
    "    {\"name\": \"Emma Brown\", \"year\": 2023, \"grades\": [94, 90, 88, 76, 92, 85, 78]},\n",
    "    {\"name\": \"Frank Johnson\", \"year\": 2023, \"grades\": [76, 94, 90, 85, 78, 88, 92]},\n",
    "    {\"name\": \"Grace Miller\", \"year\": 2023, \"grades\": [88, 76, 94, 85, 78, 92, 90]},\n",
    "    {\"name\": \"Henry Lee\", \"year\": 2023, \"grades\": [85, 90, 88, 76, 94, 92, 78]}\n",
    "]"
   ]
  },
  {
   "cell_type": "code",
   "execution_count": 3,
   "id": "26beace8-686c-4ecc-bbde-a17b3d30e140",
   "metadata": {},
   "outputs": [],
   "source": [
    "# TODO"
   ]
  },
  {
   "cell_type": "markdown",
   "id": "4132b40f-65fa-41c8-9d18-df7e14bb0667",
   "metadata": {},
   "source": [
    "**EXTRA CHALLENGE (optional):**\n",
    "Write a function `class_info(students)` that takes this list of students as input and returns the following information:\n",
    "\n",
    "- The average grade for the entire class;\n",
    "- The student with the highest average grade along with their name and the grade;\n",
    "- The student with the lowest average grade along with their name and the grade.\n",
    "\n",
    "Print the information outside the function in a readable format."
   ]
  },
  {
   "cell_type": "code",
   "execution_count": 4,
   "id": "2cefeb75-98a2-4224-8b79-f2da85bcefbe",
   "metadata": {},
   "outputs": [],
   "source": [
    "# TODO: Extra"
   ]
  }
 ],
 "metadata": {
  "kernelspec": {
   "display_name": "Python 3 (ipykernel)",
   "language": "python",
   "name": "python3"
  },
  "language_info": {
   "codemirror_mode": {
    "name": "ipython",
    "version": 3
   },
   "file_extension": ".py",
   "mimetype": "text/x-python",
   "name": "python",
   "nbconvert_exporter": "python",
   "pygments_lexer": "ipython3",
   "version": "3.10.12"
  }
 },
 "nbformat": 4,
 "nbformat_minor": 5
}
