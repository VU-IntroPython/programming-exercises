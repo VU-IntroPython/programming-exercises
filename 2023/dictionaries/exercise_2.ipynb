{
 "cells": [
  {
   "cell_type": "markdown",
   "id": "60856c6b-538d-482b-8acf-5b515190f939",
   "metadata": {},
   "source": [
    "### Exercise 2: Word Frequency Counter\n",
    "\n",
    "You are given a string of text. Your task is to create a Python function called `word_frequency(text)` that takes as input a string of text, counts the frequency of each word in the text and returns a dictionary of word-frequency counts. **Hint**: look up the string method `.split()`\n",
    "\n",
    "Print the information outside the function in a readable format."
   ]
  },
  {
   "cell_type": "code",
   "execution_count": 1,
   "id": "851c5023-13f4-4d85-90cf-470f44426c87",
   "metadata": {},
   "outputs": [],
   "source": [
    "paragraph = '''The morning sun cast a warm glow over the quiet neighborhood. People went about their daily routines, \n",
    "children waiting at the bus stop, and the smell of freshly brewed coffee wafting from a nearby cafe. As the day\n",
    "unfolded, the sense of a new beginning filled the air, offering a sense of hope and optimism for what lay ahead.'''"
   ]
  },
  {
   "cell_type": "code",
   "execution_count": 2,
   "id": "f2cc5246-940c-47b1-b252-c5c78aa238ae",
   "metadata": {},
   "outputs": [],
   "source": [
    "# TODO."
   ]
  },
  {
   "cell_type": "markdown",
   "id": "336cd71f-9f9f-4f3d-b91d-1fe79cd1a958",
   "metadata": {},
   "source": [
    "**EXTRA CHALLENGE (optional):**\n",
    "Make sure the returned dictionary does not contain any punctuation.\n",
    "\n",
    "Print the information outside the function in a readable format."
   ]
  },
  {
   "cell_type": "code",
   "execution_count": null,
   "id": "bac085fd-645f-4714-9ec9-855cda657617",
   "metadata": {},
   "outputs": [],
   "source": [
    "# TODO: Extra"
   ]
  }
 ],
 "metadata": {
  "kernelspec": {
   "display_name": "Python 3 (ipykernel)",
   "language": "python",
   "name": "python3"
  },
  "language_info": {
   "codemirror_mode": {
    "name": "ipython",
    "version": 3
   },
   "file_extension": ".py",
   "mimetype": "text/x-python",
   "name": "python",
   "nbconvert_exporter": "python",
   "pygments_lexer": "ipython3",
   "version": "3.10.12"
  }
 },
 "nbformat": 4,
 "nbformat_minor": 5
}
