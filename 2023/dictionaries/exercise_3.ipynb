{
 "cells": [
  {
   "cell_type": "markdown",
   "id": "28f6dc37-60f5-4a47-9a7e-08e475d136f6",
   "metadata": {},
   "source": [
    "### Exercise 3: My Personal Library\n",
    "\n",
    "Create a list of dictionaries of books called `my_books` with the following information: title, year published, and number of pages. **Add them yourself, do not simply copy/paste the example provided.** Then, write a function called `find_books_by_year(books, year)` that takes a list of book dictionaries and a year as input. The function should **return** a list of book titles published in that year. If no books were published in that year, the function should **return** \"No books found.\"\n",
    "\n",
    "`my_books` should look like this:\n",
    "```python\n",
    "my_books = [\n",
    "    {'title': 'To Kill a Mockingbird', 'year': 1960, 'pages': 281},\n",
    "    {'title': '1984', 'year': 1949, 'pages': 328},\n",
    "    {'title': 'Pride and Prejudice', 'year': 1813, 'pages': 432},\n",
    "    {'title': 'The Great Gatsby', 'year': 1925, 'pages': 180},\n",
    "    {'title': 'The Catcher in the Rye', 'year': 1951, 'pages': 277}\n",
    "]\n",
    "```\n",
    "Print the information outside the function in a readable format."
   ]
  },
  {
   "cell_type": "code",
   "execution_count": 2,
   "id": "59c9a1ab-b35e-4aa5-9bcc-f5c90100dfb7",
   "metadata": {},
   "outputs": [],
   "source": [
    "my_books = []\n",
    "\n",
    "# TODO. "
   ]
  },
  {
   "cell_type": "markdown",
   "id": "8560ba91-fb19-4fce-a336-cc7813e9314c",
   "metadata": {},
   "source": [
    "**EXTRA CHALLENGE (optional):** Modify the previous function in such a way that it takes a list of book dictionaries and a list of years as input. The function should return a dictionary where each year in the input list is a key, and the corresponding value is a list of book titles published in that year. If no books were published in a given year, that year should be included in the dictionary with an empty list as the value.\n",
    "\n",
    "**Input:**\n",
    "``` python\n",
    "books = [\n",
    "    {'title': 'To Kill a Mockingbird', 'year': 1960, 'pages': 281},\n",
    "    {'title': '1984', 'year': 1949, 'pages': 328},\n",
    "    {'title': 'Brave New World', 'year': 1932, 'pages': 288},\n",
    "    {'title': 'Pride and Prejudice', 'year': 1813, 'pages': 432},\n",
    "]\n",
    "\n",
    "target_years = [1932, 1960, 2021]\n",
    "\n",
    "result = find_books_by_years(books, target_years)\n",
    "```"
   ]
  },
  {
   "cell_type": "markdown",
   "id": "fcb96b32-8b51-4d3c-9c84-76af68660c84",
   "metadata": {},
   "source": [
    "**Output:**\n",
    "```python\n",
    "{\n",
    "    1932: ['Brave New World'],\n",
    "    1960: ['To Kill a Mockingbird'],\n",
    "    2021: []\n",
    "}\n",
    "```"
   ]
  },
  {
   "cell_type": "code",
   "execution_count": null,
   "id": "362e5e2f-f8ab-4778-ae6e-d5a6b0ab3c58",
   "metadata": {},
   "outputs": [],
   "source": [
    "# TODO: Extra"
   ]
  }
 ],
 "metadata": {
  "kernelspec": {
   "display_name": "Python 3 (ipykernel)",
   "language": "python",
   "name": "python3"
  },
  "language_info": {
   "codemirror_mode": {
    "name": "ipython",
    "version": 3
   },
   "file_extension": ".py",
   "mimetype": "text/x-python",
   "name": "python",
   "nbconvert_exporter": "python",
   "pygments_lexer": "ipython3",
   "version": "3.10.12"
  }
 },
 "nbformat": 4,
 "nbformat_minor": 5
}
