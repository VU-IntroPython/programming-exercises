{
 "cells": [
  {
   "cell_type": "markdown",
   "id": "17769b3d-c0ab-4d36-a0a7-d1fa620b7135",
   "metadata": {},
   "source": [
    "### Exercise 4: Anagram Checker\n",
    "\n",
    "An anagram is a word or phrase formed by rearranging the letters of another word or phrase, using all the original letters exactly once. Write a function named `are_anagrams(word1, word2)` which takes two words as input and returns True if they are anagrams of each other, assuming both words are lower case. Inside the function, use dictionaries to compare letter frequencies in each word."
   ]
  },
  {
   "cell_type": "markdown",
   "id": "774f9b04-7356-4a98-aa45-fd4e6ab3c70c",
   "metadata": {},
   "source": [
    "**Input:**\n",
    "```python\n",
    "are_anagrams(\"listen\", \"silent\")\n",
    "```\n",
    "**Output:**\n",
    "```python\n",
    "True\n",
    "```\n",
    "Print the information outside the function in a readable format."
   ]
  },
  {
   "cell_type": "code",
   "execution_count": 1,
   "id": "6b4958e3-f449-4e18-b139-d6c4de3697bb",
   "metadata": {},
   "outputs": [],
   "source": [
    "# TODO."
   ]
  },
  {
   "cell_type": "markdown",
   "id": "b8a0d4c4-c1be-42de-8440-2f5a83949f78",
   "metadata": {},
   "source": [
    "**EXTRA CHALLENGE (optional):** Modify the `are_anagrams` function to handle anagrams of not just words but also phrases. A phrase can contain spaces, punctuation, and special characters. Ensure that the function can accurately detect whether two phrases are anagrams when spaces, punctuation, and special characters are removed.\n",
    "\n",
    "**Input:**\n",
    "```python\n",
    "are_anagrams(\"The Morse Code!\", \"Here come dots\")\n",
    "```\n",
    "**Output:**\n",
    "```python\n",
    "True\n",
    "```\n",
    "Print the information outside the function in a readable format."
   ]
  },
  {
   "cell_type": "code",
   "execution_count": null,
   "id": "25c2c597-a98d-422f-aea8-737dd9a2eaf4",
   "metadata": {},
   "outputs": [],
   "source": [
    "# TODO: Extra"
   ]
  }
 ],
 "metadata": {
  "kernelspec": {
   "display_name": "Python 3 (ipykernel)",
   "language": "python",
   "name": "python3"
  },
  "language_info": {
   "codemirror_mode": {
    "name": "ipython",
    "version": 3
   },
   "file_extension": ".py",
   "mimetype": "text/x-python",
   "name": "python",
   "nbconvert_exporter": "python",
   "pygments_lexer": "ipython3",
   "version": "3.10.12"
  }
 },
 "nbformat": 4,
 "nbformat_minor": 5
}
