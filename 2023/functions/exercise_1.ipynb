{
 "cells": [
  {
   "cell_type": "markdown",
   "id": "b2194d5e-3a71-4eb9-8f6d-6287bfb622cf",
   "metadata": {},
   "source": [
    "### Exercise 1: Calculate the Area of a Triangle\n",
    "\n",
    "Write a Python function called `calculate_triangle_area` that calculates and returns the area of a triangle given its base and height as input arguments. Make sure to use the return statement. Additionally, print the result outside of the function. Assume that both the base and height are positive numbers."
   ]
  },
  {
   "cell_type": "markdown",
   "id": "d13ec637-dfa7-40cc-aee9-a910cd221b53",
   "metadata": {},
   "source": [
    "**Example**\n",
    "- Input: `calculate_triangle_area(6, 8)`<br>\n",
    "- Output: 24.0"
   ]
  },
  {
   "cell_type": "code",
   "execution_count": 1,
   "id": "d5cbfb2a-7b0b-4513-a936-de297b2b7fa6",
   "metadata": {},
   "outputs": [],
   "source": [
    "# TODO."
   ]
  },
  {
   "cell_type": "markdown",
   "id": "c24a6161-545d-4a1c-9eb5-f5cfbe004dbd",
   "metadata": {},
   "source": [
    "**EXTRA CHALLENGE (optional):**\n",
    "Extend the `calculate_triangle_area` function to calculate and return the areas of multiple triangles when given a list of base-height pairs as input arguments. The function should return a list of the calculated areas. Assume that both the bases and heights are positive numbers. Make sure to use the return statement. Additionally, print the result outside of the function.\n",
    "<br>\n",
    "\n",
    "*Note*: The input is a list of tuples. A  tuple is another data type that we will discuss in the later in the course. If you are interested in knowing more about tuples, visit the following site: https://www.w3schools.com/python/python_tuples.asp\n",
    "\n",
    "**Example**\n",
    "- Input: `calculate_triangle_area([(6, 8), (10, 5), (7, 12)])`\n",
    "- Output: [24.0, 25.0, 42.0]"
   ]
  },
  {
   "cell_type": "code",
   "execution_count": 2,
   "id": "bd912135-4d91-4b0e-80a8-3f093a94349f",
   "metadata": {},
   "outputs": [],
   "source": [
    "# TODO: Extra"
   ]
  }
 ],
 "metadata": {
  "kernelspec": {
   "display_name": "Python 3 (ipykernel)",
   "language": "python",
   "name": "python3"
  },
  "language_info": {
   "codemirror_mode": {
    "name": "ipython",
    "version": 3
   },
   "file_extension": ".py",
   "mimetype": "text/x-python",
   "name": "python",
   "nbconvert_exporter": "python",
   "pygments_lexer": "ipython3",
   "version": "3.10.12"
  }
 },
 "nbformat": 4,
 "nbformat_minor": 5
}
