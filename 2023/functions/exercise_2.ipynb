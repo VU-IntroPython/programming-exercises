{
 "cells": [
  {
   "cell_type": "markdown",
   "id": "17c78574-7916-4871-98a4-69283ea7de4c",
   "metadata": {},
   "source": [
    "### Exercise 2: Calculate the Fibonacci Sequence\n",
    "\n",
    "Remember the Fibonacci Sequence from last week? Now, let's covert it into a function. Write a Python function called `calculate_fibonacci_sequence` that generates and **prints** the first *n* numbers in the Fibonacci sequence. The Fibonacci sequence starts with 0 and 1, and each subsequent number is the sum of the two previous numbers."
   ]
  },
  {
   "cell_type": "markdown",
   "id": "3b8ae0c6-58ad-4b38-b847-ec1e5a696080",
   "metadata": {},
   "source": [
    "**Example**:<br>\n",
    "- Input: `calculate_fibonacci_sequence(7)`<br>\n",
    "- Output: <br>\n",
    "    0<br>\n",
    "    1<br>\n",
    "    1<br>\n",
    "    2<br>\n",
    "    3<br>\n",
    "    5<br>\n",
    "    8<br>"
   ]
  },
  {
   "cell_type": "code",
   "execution_count": null,
   "id": "dc21297f-1591-42d9-94b8-10963ac82fce",
   "metadata": {},
   "outputs": [],
   "source": [
    "# TODO."
   ]
  },
  {
   "cell_type": "markdown",
   "id": "96959e67-22da-484f-8571-6140674b8564",
   "metadata": {},
   "source": [
    "**EXTRA CHALLENGE (optional):** Return the output as a list.<br>\n",
    "Output: [0, 1, 1, 2, 3, 5, 8]"
   ]
  },
  {
   "cell_type": "code",
   "execution_count": null,
   "id": "3d6069b8-c6fe-4006-bf85-8b3b9f06bc46",
   "metadata": {},
   "outputs": [],
   "source": [
    "# TODO: Extra"
   ]
  }
 ],
 "metadata": {
  "kernelspec": {
   "display_name": "Python 3 (ipykernel)",
   "language": "python",
   "name": "python3"
  },
  "language_info": {
   "codemirror_mode": {
    "name": "ipython",
    "version": 3
   },
   "file_extension": ".py",
   "mimetype": "text/x-python",
   "name": "python",
   "nbconvert_exporter": "python",
   "pygments_lexer": "ipython3",
   "version": "3.10.12"
  }
 },
 "nbformat": 4,
 "nbformat_minor": 5
}
