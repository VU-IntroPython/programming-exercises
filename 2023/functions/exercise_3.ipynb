{
 "cells": [
  {
   "cell_type": "markdown",
   "id": "6941b5ef-d3ea-438a-9417-1097b42c2cc1",
   "metadata": {},
   "source": [
    "### Exercise 3: Reverse a String\n",
    "\n",
    "Write a Python function called `reverse_string` that takes a string as input and returns the reverse of the string. Make sure to use the return statement. Additionally, print the result outside of the function."
   ]
  },
  {
   "cell_type": "markdown",
   "id": "f53dfb56-6dc6-471e-a7a5-764ea7ff81c2",
   "metadata": {},
   "source": [
    "**Example**:\n",
    "- Input: `reverse_string(\"Python\")`<br>\n",
    "- Output: \"nohtyP\""
   ]
  },
  {
   "cell_type": "code",
   "execution_count": 1,
   "id": "88196eac-c8fb-488e-a3ce-af8952eff888",
   "metadata": {},
   "outputs": [],
   "source": [
    "# TODO."
   ]
  },
  {
   "cell_type": "markdown",
   "id": "07e9c7f7-ee56-4b74-a6c1-0ee2708656bd",
   "metadata": {},
   "source": [
    "**EXTRA CHALLENGE (optional):** Extend the `reverse_string` function to take a string as input, reverse it, and return `True` if the reversed string is a palindrome (reads the same forwards and backwards), and `False` otherwise. Call the new function `reverse_string_and_check_palindrome`. Make sure to use the return statement. Additionally, print the result outside of the function."
   ]
  },
  {
   "cell_type": "markdown",
   "id": "3e8908bb-6acd-418a-8c77-aaee23abe251",
   "metadata": {},
   "source": [
    "**Example**\n",
    "- Input: `reverse_string_and_check_palindrome(\"racecar\")`\n",
    "- Output: True\n"
   ]
  },
  {
   "cell_type": "code",
   "execution_count": null,
   "id": "effb34c9-141d-4640-9a59-d7dee838dfff",
   "metadata": {},
   "outputs": [],
   "source": [
    "# TODO: Extra"
   ]
  }
 ],
 "metadata": {
  "kernelspec": {
   "display_name": "Python 3 (ipykernel)",
   "language": "python",
   "name": "python3"
  },
  "language_info": {
   "codemirror_mode": {
    "name": "ipython",
    "version": 3
   },
   "file_extension": ".py",
   "mimetype": "text/x-python",
   "name": "python",
   "nbconvert_exporter": "python",
   "pygments_lexer": "ipython3",
   "version": "3.10.12"
  }
 },
 "nbformat": 4,
 "nbformat_minor": 5
}
