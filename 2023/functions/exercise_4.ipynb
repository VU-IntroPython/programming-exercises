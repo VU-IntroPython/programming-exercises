{
 "cells": [
  {
   "cell_type": "markdown",
   "id": "0ab534b9-23d8-47f1-a786-0d7685c4ed52",
   "metadata": {},
   "source": [
    "### Exercise 4: Find the Longest Word in a Sentence\n",
    "\n",
    "Write a Python function called `find_longest_word` that takes a sentence as input and returns the longest word in the sentence. If there are multiple words having the highest length, return the first word in the sentence having that length.  Make sure to use the return statement. Additionally, print the result outside of the function. Assume that words are separated by spaces, and there are no punctuation marks. **Hint**: Look up the string method `.split()`\n"
   ]
  },
  {
   "cell_type": "markdown",
   "id": "35450bde-52ba-4f1e-b7a7-8df7279d66b2",
   "metadata": {},
   "source": [
    "**Example**<br>\n",
    "- Input: `find_longest_word(\"The quick brown fox jumps over the lazy dog\")`<br>\n",
    "- Output: \"quick\""
   ]
  },
  {
   "cell_type": "code",
   "execution_count": 1,
   "id": "7fc242f2-7a0e-4c62-ba71-d11aec0a3175",
   "metadata": {},
   "outputs": [],
   "source": [
    "# TODO."
   ]
  },
  {
   "cell_type": "markdown",
   "id": "09e9ebb6-4b14-4b24-b4eb-9148d23ab679",
   "metadata": {},
   "source": [
    "**EXTRA CHALLENGE (optional):** Modify the `find_longest_word` function to take a sentence as input and return a list of all the longest words in the sentence. If there are multiple words with the same longest length, include all of them in the list. Make sure to use the return statement. Additionally, print the result outside of the function."
   ]
  },
  {
   "cell_type": "markdown",
   "id": "2d3761eb-97c1-42f1-bd65-7a691accf217",
   "metadata": {},
   "source": [
    "**Example**<br>\n",
    "- Input: `find_longest_word(\"The quick brown fox jumps over the lazy dog\")`<br>\n",
    "- Output: [\"quick\", \"brown\"]"
   ]
  },
  {
   "cell_type": "code",
   "execution_count": null,
   "id": "08be3714-7eb0-4d88-9600-1eddd4d46025",
   "metadata": {},
   "outputs": [],
   "source": [
    "# TODO: Extra"
   ]
  }
 ],
 "metadata": {
  "kernelspec": {
   "display_name": "Python 3 (ipykernel)",
   "language": "python",
   "name": "python3"
  },
  "language_info": {
   "codemirror_mode": {
    "name": "ipython",
    "version": 3
   },
   "file_extension": ".py",
   "mimetype": "text/x-python",
   "name": "python",
   "nbconvert_exporter": "python",
   "pygments_lexer": "ipython3",
   "version": "3.10.12"
  }
 },
 "nbformat": 4,
 "nbformat_minor": 5
}
