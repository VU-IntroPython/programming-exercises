{
 "cells": [
  {
   "cell_type": "markdown",
   "id": "deaa35b5-384c-4a8d-b00a-24cc0fe4b84e",
   "metadata": {},
   "source": [
    "### Exercise 5: Find the Median of a List\n",
    "\n",
    "Write a Python function called `find_median` that takes a list of sorted numbers as input and returns the median value. The median is the middle value in a sorted list of numbers. If the list has an even number of elements, return the average of the two middle values. Make sure to use the return statement. Additionally, print the result outside of the function."
   ]
  },
  {
   "cell_type": "markdown",
   "id": "5d068541-f69c-4001-be5b-5e9879f5b999",
   "metadata": {},
   "source": [
    "**Example**<br>\n",
    "- Input: `find_median([1, 2, 3, 6])`<br>\n",
    "- Output: \"2.5\""
   ]
  },
  {
   "cell_type": "code",
   "execution_count": 1,
   "id": "725cf3e0-119e-4a22-be55-3048402d6c9a",
   "metadata": {},
   "outputs": [],
   "source": [
    "# TODO."
   ]
  },
  {
   "cell_type": "markdown",
   "id": "dd3e17e0-805e-4fdc-b122-fd85edeffc21",
   "metadata": {},
   "source": [
    "**EXTRA CHALLENGE (optional):** Modify the `find_median` function to take a list of numbers as input, find the median value, and return it. However, this time, ensure that the function works correctly even if the input list is not sorted. Make sure to use the return statement. Additionally, print the result outside of the function."
   ]
  },
  {
   "cell_type": "markdown",
   "id": "bc509238-b072-4805-a453-54600f08d229",
   "metadata": {},
   "source": [
    "**Example**<br>\n",
    "- Input: `find_median([3, 1, 6, 2])`<br>\n",
    "- Output: \"2.5\""
   ]
  },
  {
   "cell_type": "code",
   "execution_count": null,
   "id": "1e99157c-54d6-418a-a81b-19f66e9159aa",
   "metadata": {},
   "outputs": [],
   "source": [
    "# TODO: Extra"
   ]
  }
 ],
 "metadata": {
  "kernelspec": {
   "display_name": "Python 3 (ipykernel)",
   "language": "python",
   "name": "python3"
  },
  "language_info": {
   "codemirror_mode": {
    "name": "ipython",
    "version": 3
   },
   "file_extension": ".py",
   "mimetype": "text/x-python",
   "name": "python",
   "nbconvert_exporter": "python",
   "pygments_lexer": "ipython3",
   "version": "3.10.12"
  }
 },
 "nbformat": 4,
 "nbformat_minor": 5
}
