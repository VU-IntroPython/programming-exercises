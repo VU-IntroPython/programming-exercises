{
 "cells": [
  {
   "cell_type": "markdown",
   "id": "1c08a23c-3b76-4924-97d8-850865165f6f",
   "metadata": {},
   "source": [
    "### Task 1: Counting\n",
    "\n",
    "Write a Python program that uses a while loop to count from one to 10 but only printing even numbers **without** using the **continue** statement.\n",
    "\n",
    "**Expected output**:<br>\n",
    "2<br>\n",
    "4<br>\n",
    "6<br>\n",
    "8<br>\n",
    "10<br>\n",
    "\n",
    "**Extra challenge (optional)**: Do not use the modulo (%) operator."
   ]
  },
  {
   "cell_type": "code",
   "execution_count": null,
   "id": "ddbd709c-42a7-4856-adb4-98487ab55952",
   "metadata": {},
   "outputs": [],
   "source": [
    "# TODO"
   ]
  }
 ],
 "metadata": {
  "kernelspec": {
   "display_name": "Python 3 (ipykernel)",
   "language": "python",
   "name": "python3"
  },
  "language_info": {
   "codemirror_mode": {
    "name": "ipython",
    "version": 3
   },
   "file_extension": ".py",
   "mimetype": "text/x-python",
   "name": "python",
   "nbconvert_exporter": "python",
   "pygments_lexer": "ipython3",
   "version": "3.10.12"
  }
 },
 "nbformat": 4,
 "nbformat_minor": 5
}
