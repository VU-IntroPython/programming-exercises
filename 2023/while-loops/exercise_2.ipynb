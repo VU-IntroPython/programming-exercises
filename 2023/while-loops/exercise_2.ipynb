{
 "cells": [
  {
   "cell_type": "markdown",
   "id": "d7802ec8-8b74-4125-9c3e-20e9a2707a0a",
   "metadata": {},
   "source": [
    "### Task 2: Skipping\n",
    "\n",
    "Write a Python program that prints all even numbers from 1 to 20, excluding numbers that are divisible by 3 using the **continue** statement.\n",
    "\n",
    "**Expected output**:<br>\n",
    "2<br>\n",
    "4<br>\n",
    "8<br>\n",
    "10<br>\n",
    "14<br>\n",
    "16<br>\n",
    "20<br>\n",
    "\n",
    "**Extra challenge (optional)**: In addition to skipping numbers that are divisible by 3, enhance the program by also skipping numbers that are perfect squares. A perfect square is a number that is the square of an integer (e.g., 4, 9, 16, 25, etc.). **Tip**: The square root of a number is equivalent to raising that number to the power of 0.5.\n",
    "\n",
    "**Expected output**:<br>\n",
    "2<br>\n",
    "8<br>\n",
    "10<br>\n",
    "14<br>\n",
    "20<br>"
   ]
  },
  {
   "cell_type": "code",
   "execution_count": null,
   "id": "5a62b3ad-0f9d-42de-a5e8-c5e31b62a0a7",
   "metadata": {},
   "outputs": [],
   "source": [
    "# TODO."
   ]
  }
 ],
 "metadata": {
  "kernelspec": {
   "display_name": "Python 3 (ipykernel)",
   "language": "python",
   "name": "python3"
  },
  "language_info": {
   "codemirror_mode": {
    "name": "ipython",
    "version": 3
   },
   "file_extension": ".py",
   "mimetype": "text/x-python",
   "name": "python",
   "nbconvert_exporter": "python",
   "pygments_lexer": "ipython3",
   "version": "3.10.12"
  }
 },
 "nbformat": 4,
 "nbformat_minor": 5
}
