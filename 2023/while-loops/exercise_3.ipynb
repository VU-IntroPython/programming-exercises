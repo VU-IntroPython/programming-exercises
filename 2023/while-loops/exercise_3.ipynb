{
 "cells": [
  {
   "cell_type": "markdown",
   "id": "f3d9a2c7-becb-45b1-a46f-6a049dbde574",
   "metadata": {},
   "source": [
    "### Task 3: Collatz sequence\n",
    "\n",
    "In this Python exercise, you will create a program to generate and display the Collatz sequence for a given starting number. The Collatz sequence, also known as the 3x + 1 problem, follows a specific set of rules: Starting with any positive integer, if the number is even, you divide it by 2; if it's odd, you multiply it by 3 and add 1. You continue applying these rules until the sequence reaches the number 1. Your task is to implement a **while loop** to calculate the sequence and **break** the loop if it reaches 50 steps. This means that if the sequence does not reach 1 within 50 steps, the loop should terminate to prevent long-running computations and possible infinite loops (**test this with 27 as this takes 111 steps to terminate**). If you have to break add the print message *\"Argh, it costs too much computation power!\"*.\n",
    "\n",
    "**Expected input**: <br>\n",
    "7\n",
    "\n",
    "**Expected output**:<br>\n",
    "7<br>\n",
    "22<br>\n",
    "11<br>\n",
    "34<br>\n",
    "17<br>\n",
    "52<br>\n",
    "26<br>\n",
    "13<br>\n",
    "40<br>\n",
    "20<br>\n",
    "10<br>\n",
    "5<br>\n",
    "16<br>\n",
    "8<br>\n",
    "4<br>\n",
    "2<br>\n",
    "1<br>\n",
    "\n",
    "**Extra challenge (optional)**: Modify the program to keep track of and display the maximum number encountered in the Collatz sequence along with its position (iteration number) in the sequence. Additionally, find and display the average of all numbers encountered in the sequence. To test: for number 7 the maximum number encountered is 52 (iteration 6) and the average of all numbers encountered is approximately 13.29."
   ]
  },
  {
   "cell_type": "code",
   "execution_count": null,
   "id": "994bc2d8-e714-450b-88f1-797ab3cb9f7b",
   "metadata": {},
   "outputs": [],
   "source": [
    "# Prompt the user to enter a positive integer as the starting number\n",
    "start_number = int(input(\"Enter a positive integer as the starting number: \"))\n",
    "\n",
    "# Initialize a count to keep track of the number of terms in the sequence\n",
    "count = 0\n",
    "\n",
    "# TODO"
   ]
  }
 ],
 "metadata": {
  "kernelspec": {
   "display_name": "Python 3 (ipykernel)",
   "language": "python",
   "name": "python3"
  },
  "language_info": {
   "codemirror_mode": {
    "name": "ipython",
    "version": 3
   },
   "file_extension": ".py",
   "mimetype": "text/x-python",
   "name": "python",
   "nbconvert_exporter": "python",
   "pygments_lexer": "ipython3",
   "version": "3.10.12"
  }
 },
 "nbformat": 4,
 "nbformat_minor": 5
}
