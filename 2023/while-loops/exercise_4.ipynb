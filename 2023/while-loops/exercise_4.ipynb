{
 "cells": [
  {
   "cell_type": "markdown",
   "id": "5a76f1a9-6817-477e-8020-5ea08c867964",
   "metadata": {},
   "source": [
    "### Task 4: Platforms"
   ]
  },
  {
   "cell_type": "markdown",
   "id": "2ee06068-ed7c-4d05-b8b0-82f42828da6b",
   "metadata": {},
   "source": [
    "Let's review the earlier code related to platforms and make a slight change.\n",
    "\n",
    "```python\n",
    "platform = 1\n",
    "\n",
    "while platform < 10:\n",
    "    print(f\"You are at Platform {platform}.\")\n",
    "    platform += 1\n",
    "\n",
    "print(\"You finally arrived!\")\n"
   ]
  },
  {
   "cell_type": "markdown",
   "id": "f8c0c4cc-a329-4545-bdf8-3c8b25cafa39",
   "metadata": {},
   "source": [
    "Each platform is separated from the next one by a distance of 5 meters. Modify the original loop so that between the numbers of each platform you print the number of meters remaining until the next one. The output should look something like this:\n",
    "\n",
    "```\n",
    "You are at Platform 1.\n",
    "    4 meters to go until Platform 2...\n",
    "    3 meters to go until Platform 2...\n",
    "    2 meters to go until Platform 2...\n",
    "    1 meters to go until Platform 2...\n",
    "You are at Platform 2.\n",
    "...\n",
    "```"
   ]
  },
  {
   "cell_type": "markdown",
   "id": "63a046b2-0233-4f0a-84b8-8e5a651e38eb",
   "metadata": {},
   "source": [
    "This exercise requires the use of a **nested loop** - show how for each iteration in the outer loop, the inner loop is executed. You can demonstrate the importance of setting your variable values and conditions right by deleting some rows, such as ```meters = 4``` or ```platform += 1```.\n",
    "\n",
    "**Extra challenge (optional)**: Modify the code to allow the user to input the number of platforms they want to visit. Calculate the total distance traveled and print it at the end of the journey."
   ]
  },
  {
   "cell_type": "code",
   "execution_count": null,
   "id": "1693eb93-936f-4236-9468-7e5cb1ef254c",
   "metadata": {},
   "outputs": [],
   "source": [
    "# TODO."
   ]
  }
 ],
 "metadata": {
  "kernelspec": {
   "display_name": "Python 3 (ipykernel)",
   "language": "python",
   "name": "python3"
  },
  "language_info": {
   "codemirror_mode": {
    "name": "ipython",
    "version": 3
   },
   "file_extension": ".py",
   "mimetype": "text/x-python",
   "name": "python",
   "nbconvert_exporter": "python",
   "pygments_lexer": "ipython3",
   "version": "3.10.12"
  }
 },
 "nbformat": 4,
 "nbformat_minor": 5
}
