{
 "cells": [
  {
   "cell_type": "markdown",
   "id": "8f7acf1b-b6a0-4825-8996-4661a8a0bfcb",
   "metadata": {},
   "source": [
    "### Task 5: \"99 Bottles of Beer\" Song\n",
    "\n",
    "Write a Python program using a **while-loop** that prints the lyrics to the \"99 Bottles of Beer\" song, including the final verse, while **avoiding** repetitive code. The song starts with \"99 bottles of beer on the wall\" and counts down one bottle at a time until there are no bottles left. The final verse should be a special case where there are no bottles left.\n",
    "\n",
    "*99 bottles of beer on the wall,<br>\n",
    "99 bottles of beer.<br>\n",
    "Take one down, pass it around,<br>\n",
    "98 bottles of beer on the wall.*<br>\n",
    "\n",
    "*98 bottles of beer on the wall,<br>\n",
    "98 bottles of beer.<br>\n",
    "Take one down, pass it around,<br>\n",
    "97 bottles of beer on the wall.*<br>\n",
    "\n",
    "...<br>\n",
    "\n",
    "*2 bottles of beer on the wall,<br>\n",
    "2 bottles of beer.<br>\n",
    "Take one down, pass it around,<br>\n",
    "1 bottle of beer on the wall.*<br>\n",
    "\n",
    "*1 bottle of beer on the wall,<br>\n",
    "1 bottle of beer.<br>\n",
    "Take one down, pass it around,<br>\n",
    "No more bottles of beer on the wall.*<br>\n",
    "\n",
    "**Extra challenge (optional)**: Modify the program to enable users to begin with a custom number of bottles and define their preferred liquid, effectively replacing every instance of \"beer\" with the user-provided input, such as \"Coca Cola.\""
   ]
  },
  {
   "cell_type": "code",
   "execution_count": 1,
   "id": "445a5ea7-f7ba-4961-8055-1c638fca2e11",
   "metadata": {},
   "outputs": [],
   "source": [
    "# TODO"
   ]
  }
 ],
 "metadata": {
  "kernelspec": {
   "display_name": "Python 3 (ipykernel)",
   "language": "python",
   "name": "python3"
  },
  "language_info": {
   "codemirror_mode": {
    "name": "ipython",
    "version": 3
   },
   "file_extension": ".py",
   "mimetype": "text/x-python",
   "name": "python",
   "nbconvert_exporter": "python",
   "pygments_lexer": "ipython3",
   "version": "3.10.12"
  }
 },
 "nbformat": 4,
 "nbformat_minor": 5
}
