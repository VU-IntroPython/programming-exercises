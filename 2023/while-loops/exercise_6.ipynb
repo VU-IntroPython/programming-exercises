{
 "cells": [
  {
   "cell_type": "markdown",
   "id": "9a7491b7-d2cf-4d37-8ef9-ee86c9b41c3f",
   "metadata": {},
   "source": [
    "### Task 6: Fibonacci Sequence\n",
    "The Fibonacci sequence is a series of numbers where each number is the sum of the two preceding ones. The sequence typically starts with 0 and 1. Here's how it begins:\n",
    "\n",
    "0, 1, 1, 2, 3, 5, 8, 13, 21, ...\n",
    "\n",
    "0 and 1 are the first two numbers in the sequence.\n",
    "The third number is the sum of the first two numbers (0 + 1), which is 1.\n",
    "The fourth number is the sum of the second and third numbers (1 + 1), which is 2.\n",
    "This pattern continues indefinitely.\n",
    "\n",
    "In this exercise, you're tasked with creating a Python program that generates and displays the Fibonacci sequence up to a specified limit using a while-loop. To achieve this, you'll prompt the user to enter a limit (a maximum value), and then your program will calculate and print the Fibonacci numbers up to that limit."
   ]
  },
  {
   "cell_type": "markdown",
   "id": "d97b46d3-bf54-4f87-b17c-375908adb321",
   "metadata": {},
   "source": [
    "**Expected input**:<br>\n",
    "15\n",
    "\n",
    "**Expected Output**:<br>\n",
    "0<br>\n",
    "1<br>\n",
    "1<br>\n",
    "2<br>\n",
    "3<br>\n",
    "5<br>\n",
    "8<br>\n",
    "13<br>"
   ]
  },
  {
   "cell_type": "markdown",
   "id": "539d805e-3c90-4ba8-8823-fd5d32c0d56d",
   "metadata": {},
   "source": [
    "**Extra challenge (optional)**: Implement input validation to ensure that the user provides a positive integer as the limit. **Tip**: You can utilize a combination of **while True** and **try/except** for this task: https://www.geeksforgeeks.org/how-to-use-while-true-in-python/ and https://www.w3schools.com/python/python_try_except.asp"
   ]
  },
  {
   "cell_type": "code",
   "execution_count": null,
   "id": "ce47ca12-da4f-44b3-933d-04ec59d63a93",
   "metadata": {},
   "outputs": [],
   "source": [
    "# TODO"
   ]
  }
 ],
 "metadata": {
  "kernelspec": {
   "display_name": "Python 3 (ipykernel)",
   "language": "python",
   "name": "python3"
  },
  "language_info": {
   "codemirror_mode": {
    "name": "ipython",
    "version": 3
   },
   "file_extension": ".py",
   "mimetype": "text/x-python",
   "name": "python",
   "nbconvert_exporter": "python",
   "pygments_lexer": "ipython3",
   "version": "3.10.12"
  }
 },
 "nbformat": 4,
 "nbformat_minor": 5
}
